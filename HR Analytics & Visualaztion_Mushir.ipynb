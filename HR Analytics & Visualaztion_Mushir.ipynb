{
 "cells": [
  {
   "cell_type": "markdown",
   "id": "ed1eafd6",
   "metadata": {},
   "source": [
    "## Business Problem"
   ]
  },
  {
   "cell_type": "markdown",
   "id": "00eaba50",
   "metadata": {},
   "source": [
    "### In India, 15 lakh software engineers graduate every year out of which only 4.77% meet the minimum hiring criteria of product firms. This top talent is in very high demand in the tech industry. Data science can help the companies identify the best ways to attract this talent."
   ]
  },
  {
   "cell_type": "markdown",
   "id": "37099171",
   "metadata": {},
   "source": [
    "## Imoprt Required Libraries"
   ]
  },
  {
   "cell_type": "code",
   "execution_count": 1,
   "id": "4d5d406f",
   "metadata": {},
   "outputs": [],
   "source": [
    "import warnings\n",
    "warnings.filterwarnings('ignore')\n",
    "\n",
    "import pandas as pd\n",
    "import numpy as np\n",
    "\n",
    "import matplotlib.pyplot as plt\n",
    "import seaborn as sns"
   ]
  },
  {
   "cell_type": "code",
   "execution_count": 2,
   "id": "c781698e",
   "metadata": {
    "scrolled": true
   },
   "outputs": [
    {
     "data": {
      "text/html": [
       "<div>\n",
       "<style scoped>\n",
       "    .dataframe tbody tr th:only-of-type {\n",
       "        vertical-align: middle;\n",
       "    }\n",
       "\n",
       "    .dataframe tbody tr th {\n",
       "        vertical-align: top;\n",
       "    }\n",
       "\n",
       "    .dataframe thead th {\n",
       "        text-align: right;\n",
       "    }\n",
       "</style>\n",
       "<table border=\"1\" class=\"dataframe\">\n",
       "  <thead>\n",
       "    <tr style=\"text-align: right;\">\n",
       "      <th></th>\n",
       "      <th>attrition</th>\n",
       "      <th>performance_rating</th>\n",
       "      <th>sales_quota_pct</th>\n",
       "      <th>recruiting_source</th>\n",
       "    </tr>\n",
       "  </thead>\n",
       "  <tbody>\n",
       "    <tr>\n",
       "      <th>0</th>\n",
       "      <td>1</td>\n",
       "      <td>3</td>\n",
       "      <td>1.088190</td>\n",
       "      <td>Applied Online</td>\n",
       "    </tr>\n",
       "    <tr>\n",
       "      <th>1</th>\n",
       "      <td>0</td>\n",
       "      <td>3</td>\n",
       "      <td>2.394173</td>\n",
       "      <td>NaN</td>\n",
       "    </tr>\n",
       "    <tr>\n",
       "      <th>2</th>\n",
       "      <td>1</td>\n",
       "      <td>2</td>\n",
       "      <td>0.497530</td>\n",
       "      <td>Campus</td>\n",
       "    </tr>\n",
       "    <tr>\n",
       "      <th>3</th>\n",
       "      <td>0</td>\n",
       "      <td>2</td>\n",
       "      <td>2.513958</td>\n",
       "      <td>NaN</td>\n",
       "    </tr>\n",
       "    <tr>\n",
       "      <th>4</th>\n",
       "      <td>0</td>\n",
       "      <td>3</td>\n",
       "      <td>1.424789</td>\n",
       "      <td>Applied Online</td>\n",
       "    </tr>\n",
       "  </tbody>\n",
       "</table>\n",
       "</div>"
      ],
      "text/plain": [
       "   attrition  performance_rating  sales_quota_pct recruiting_source\n",
       "0          1                   3         1.088190    Applied Online\n",
       "1          0                   3         2.394173               NaN\n",
       "2          1                   2         0.497530            Campus\n",
       "3          0                   2         2.513958               NaN\n",
       "4          0                   3         1.424789    Applied Online"
      ]
     },
     "execution_count": 2,
     "metadata": {},
     "output_type": "execute_result"
    }
   ],
   "source": [
    "df = pd.read_csv(\"Recruitment_Data.csv\")\n",
    "df.head()"
   ]
  },
  {
   "cell_type": "code",
   "execution_count": 3,
   "id": "ced78622",
   "metadata": {
    "scrolled": true
   },
   "outputs": [
    {
     "name": "stdout",
     "output_type": "stream",
     "text": [
      "<class 'pandas.core.frame.DataFrame'>\n",
      "RangeIndex: 446 entries, 0 to 445\n",
      "Data columns (total 4 columns):\n",
      " #   Column              Non-Null Count  Dtype  \n",
      "---  ------              --------------  -----  \n",
      " 0   attrition           446 non-null    int64  \n",
      " 1   performance_rating  446 non-null    int64  \n",
      " 2   sales_quota_pct     446 non-null    float64\n",
      " 3   recruiting_source   241 non-null    object \n",
      "dtypes: float64(1), int64(2), object(1)\n",
      "memory usage: 14.1+ KB\n"
     ]
    }
   ],
   "source": [
    "df.info()"
   ]
  },
  {
   "cell_type": "code",
   "execution_count": 4,
   "id": "d69b670f",
   "metadata": {},
   "outputs": [
    {
     "data": {
      "text/html": [
       "<div>\n",
       "<style scoped>\n",
       "    .dataframe tbody tr th:only-of-type {\n",
       "        vertical-align: middle;\n",
       "    }\n",
       "\n",
       "    .dataframe tbody tr th {\n",
       "        vertical-align: top;\n",
       "    }\n",
       "\n",
       "    .dataframe thead th {\n",
       "        text-align: right;\n",
       "    }\n",
       "</style>\n",
       "<table border=\"1\" class=\"dataframe\">\n",
       "  <thead>\n",
       "    <tr style=\"text-align: right;\">\n",
       "      <th></th>\n",
       "      <th>attrition</th>\n",
       "      <th>performance_rating</th>\n",
       "      <th>sales_quota_pct</th>\n",
       "    </tr>\n",
       "  </thead>\n",
       "  <tbody>\n",
       "    <tr>\n",
       "      <th>count</th>\n",
       "      <td>446.000000</td>\n",
       "      <td>446.000000</td>\n",
       "      <td>446.000000</td>\n",
       "    </tr>\n",
       "    <tr>\n",
       "      <th>mean</th>\n",
       "      <td>0.213004</td>\n",
       "      <td>2.894619</td>\n",
       "      <td>1.082607</td>\n",
       "    </tr>\n",
       "    <tr>\n",
       "      <th>std</th>\n",
       "      <td>0.409891</td>\n",
       "      <td>0.683755</td>\n",
       "      <td>0.710042</td>\n",
       "    </tr>\n",
       "    <tr>\n",
       "      <th>min</th>\n",
       "      <td>0.000000</td>\n",
       "      <td>1.000000</td>\n",
       "      <td>-0.710827</td>\n",
       "    </tr>\n",
       "    <tr>\n",
       "      <th>25%</th>\n",
       "      <td>0.000000</td>\n",
       "      <td>2.000000</td>\n",
       "      <td>0.584444</td>\n",
       "    </tr>\n",
       "    <tr>\n",
       "      <th>50%</th>\n",
       "      <td>0.000000</td>\n",
       "      <td>3.000000</td>\n",
       "      <td>1.070143</td>\n",
       "    </tr>\n",
       "    <tr>\n",
       "      <th>75%</th>\n",
       "      <td>0.000000</td>\n",
       "      <td>3.000000</td>\n",
       "      <td>1.532488</td>\n",
       "    </tr>\n",
       "    <tr>\n",
       "      <th>max</th>\n",
       "      <td>1.000000</td>\n",
       "      <td>5.000000</td>\n",
       "      <td>3.666740</td>\n",
       "    </tr>\n",
       "  </tbody>\n",
       "</table>\n",
       "</div>"
      ],
      "text/plain": [
       "        attrition  performance_rating  sales_quota_pct\n",
       "count  446.000000          446.000000       446.000000\n",
       "mean     0.213004            2.894619         1.082607\n",
       "std      0.409891            0.683755         0.710042\n",
       "min      0.000000            1.000000        -0.710827\n",
       "25%      0.000000            2.000000         0.584444\n",
       "50%      0.000000            3.000000         1.070143\n",
       "75%      0.000000            3.000000         1.532488\n",
       "max      1.000000            5.000000         3.666740"
      ]
     },
     "execution_count": 4,
     "metadata": {},
     "output_type": "execute_result"
    }
   ],
   "source": [
    "df.describe()"
   ]
  },
  {
   "cell_type": "code",
   "execution_count": 5,
   "id": "d72bd62c",
   "metadata": {},
   "outputs": [
    {
     "data": {
      "text/plain": [
       "attrition              0.00\n",
       "performance_rating     0.00\n",
       "sales_quota_pct        0.00\n",
       "recruiting_source     45.96\n",
       "dtype: float64"
      ]
     },
     "execution_count": 5,
     "metadata": {},
     "output_type": "execute_result"
    }
   ],
   "source": [
    "# chenking null values\n",
    "round(100*df.isnull().sum()/len(df),2)"
   ]
  },
  {
   "cell_type": "code",
   "execution_count": 6,
   "id": "caad8164",
   "metadata": {},
   "outputs": [],
   "source": [
    "df[\"recruiting_source\"] = df[\"recruiting_source\"].fillna(\"NaN\")"
   ]
  },
  {
   "cell_type": "code",
   "execution_count": 7,
   "id": "8374c929",
   "metadata": {},
   "outputs": [
    {
     "data": {
      "text/plain": [
       "attrition             0.0\n",
       "performance_rating    0.0\n",
       "sales_quota_pct       0.0\n",
       "recruiting_source     0.0\n",
       "dtype: float64"
      ]
     },
     "execution_count": 7,
     "metadata": {},
     "output_type": "execute_result"
    }
   ],
   "source": [
    "# Rechenking null values\n",
    "round(100*df.isnull().sum()/len(df),2)"
   ]
  },
  {
   "cell_type": "code",
   "execution_count": 8,
   "id": "22a7d44b",
   "metadata": {},
   "outputs": [
    {
     "data": {
      "text/plain": [
       "recruiting_source\n",
       "Applied Online    1.058590\n",
       "Campus            0.908035\n",
       "NaN               1.168109\n",
       "Referral          1.023198\n",
       "Search Firm       0.886960\n",
       "Name: sales_quota_pct, dtype: float64"
      ]
     },
     "execution_count": 8,
     "metadata": {},
     "output_type": "execute_result"
    }
   ],
   "source": [
    "# Now Do Groupby \n",
    "# The average Sales Number grouped by Recruiting Source\n",
    "avg_sales_num = df.groupby(\"recruiting_source\")[\"sales_quota_pct\"].mean()\n",
    "avg_sales_num"
   ]
  },
  {
   "cell_type": "code",
   "execution_count": 9,
   "id": "d47c5c25",
   "metadata": {},
   "outputs": [
    {
     "data": {
      "text/plain": [
       "recruiting_source\n",
       "Applied Online    0.246154\n",
       "Campus            0.285714\n",
       "NaN               0.131707\n",
       "Referral          0.333333\n",
       "Search Firm       0.500000\n",
       "Name: attrition, dtype: float64"
      ]
     },
     "execution_count": 9,
     "metadata": {},
     "output_type": "execute_result"
    }
   ],
   "source": [
    "# The average Attrition Number grouped by Recruiting Source\n",
    "avg_attri_num = df.groupby(\"recruiting_source\")[\"attrition\"].mean()\n",
    "avg_attri_num"
   ]
  },
  {
   "cell_type": "markdown",
   "id": "ed2b83c1",
   "metadata": {},
   "source": [
    "## Data Visualizations"
   ]
  },
  {
   "cell_type": "code",
   "execution_count": 10,
   "id": "ebcd797e",
   "metadata": {},
   "outputs": [],
   "source": [
    "avg_attri_num = df.groupby(\"recruiting_source\")[\"attrition\"].mean().reset_index()"
   ]
  },
  {
   "cell_type": "code",
   "execution_count": 11,
   "id": "8884e997",
   "metadata": {},
   "outputs": [
    {
     "data": {
      "image/png": "[encoded data removed]",
      "text/plain": [
       "<Figure size 600x400 with 1 Axes>"
      ]
     },
     "metadata": {},
     "output_type": "display_data"
    }
   ],
   "source": [
    "# task-1\n",
    "# Visualiz Plot\n",
    "# recruiting_source ----> attrition\n",
    "\n",
    "plt.figure(figsize = (6,4))\n",
    "sns.barplot(x = \"recruiting_source\", y =\"attrition\", data =avg_attri_num)\n",
    "plt.title(\"Average Attrittion by Recruiting Source\")\n",
    "plt.show()"
   ]
  },
  {
   "cell_type": "code",
   "execution_count": 12,
   "id": "0fb4d357",
   "metadata": {},
   "outputs": [],
   "source": [
    "# Applied Online: Has the Lowe attrition rate(0.246154).\n",
    "\n",
    "# Campus: Has Slightly higher attrition rate(0.285714).compared to Applied Online.\n",
    "\n",
    "# Nan: Not Available Data has lowest attrition rate( 0.131707).\n",
    "\n",
    "# Referral: Has Average attrition rate(0.333333).\n",
    "\n",
    "# Search Firm: Has highest attrition rate( 0.500000)"
   ]
  },
  {
   "cell_type": "code",
   "execution_count": 13,
   "id": "ac9d3699",
   "metadata": {},
   "outputs": [],
   "source": [
    "# task-2\n",
    "# Visualize plot\n",
    "# recruiting_source -----> sales_quota_pct "
   ]
  },
  {
   "cell_type": "code",
   "execution_count": 14,
   "id": "398278f2",
   "metadata": {},
   "outputs": [],
   "source": [
    "avg_sales_num = df.groupby(\"recruiting_source\")[\"sales_quota_pct\"].mean().reset_index()"
   ]
  },
  {
   "cell_type": "code",
   "execution_count": 15,
   "id": "69e7ce0f",
   "metadata": {},
   "outputs": [
    {
     "data": {
      "image/png": "[encoded data removed]",
      "text/plain": [
       "<Figure size 600x400 with 1 Axes>"
      ]
     },
     "metadata": {},
     "output_type": "display_data"
    }
   ],
   "source": [
    "plt.figure(figsize=(6,4))\n",
    "sns.barplot(x = \"recruiting_source\", y= \"sales_quota_pct\", data = avg_sales_num)\n",
    "plt.title(\"Average sales_quota_pct by Recruiting Source\")\n",
    "plt.show()"
   ]
  },
  {
   "cell_type": "code",
   "execution_count": 16,
   "id": "39250640",
   "metadata": {},
   "outputs": [],
   "source": [
    "# Applied Online: Has slightly lowest average sale quota (1.058590), Compared to Not Available Data.indicating strong performance.\n",
    "\n",
    "# Campus: Show a moderate average sales quota (0.908035).\n",
    "\n",
    "# Nan: Not Available data has slightly highest average sale quota (1.168109), Compared to Applied online.\n",
    "\n",
    "# Referral: Also shows a good sales performance (1.023198) but slightly lower than Applied Online.\n",
    "\n",
    "# Search Firm: Has the lowest sales quota percentage ( 0.886960). "
   ]
  },
  {
   "cell_type": "markdown",
   "id": "e7797501",
   "metadata": {},
   "source": [
    "## Conclusions:\n",
    "\n",
    "#### 1. Best Recruiting Source is Applied Online.\n",
    "#### 2. It has highest average sale performance and lowest  attrition rates.\n",
    "#### 3. This indicates that employees recruited through this source not only                  perform well but also stay longer with the company.\n"
   ]
  },
  {
   "cell_type": "code",
   "execution_count": null,
   "id": "84ef4b71",
   "metadata": {},
   "outputs": [],
   "source": []
  }
 ],
 "metadata": {
  "kernelspec": {
   "display_name": "Python 3 (ipykernel)",
   "language": "python",
   "name": "python3"
  },
  "language_info": {
   "codemirror_mode": {
    "name": "ipython",
    "version": 3
   },
   "file_extension": ".py",
   "mimetype": "text/x-python",
   "name": "python",
   "nbconvert_exporter": "python",
   "pygments_lexer": "ipython3",
   "version": "3.11.5"
  }
 },
 "nbformat": 4,
 "nbformat_minor": 5
}
